{
 "cells": [
  {
   "cell_type": "code",
   "execution_count": 5,
   "metadata": {},
   "outputs": [
    {
     "name": "stdout",
     "output_type": "stream",
     "text": [
      "ahiah\n",
      "ahiahi\n",
      "3\n"
     ]
    }
   ],
   "source": [
    "\n",
    "import re\n",
    "#with open('C:/Users/b0861/Desktop/Python_Project/C4lab/2022summer-git-python_basics/HW1/HW1.txt', 'r') as f:\n",
    " #   a = f.read()\n",
    "a = 'elm.Nund?+--!??+--!?imrta, sus.'\n",
    "\n",
    "c = \"ahiahi\"\n",
    "print(c.strip(\"i\"))\n",
    "print(c)\n",
    "#print(a)\n",
    "for i in a:\n",
    "    i.strip('?+-!')\n",
    "    i.strip('\\n')\n",
    "    #print(i)\n",
    "b = a.strip('?')   \n",
    "c = b.split('.')\n",
    "\n",
    "#print(b)\n",
    "#print(c)\n",
    "NumOfSen = len(c)\n",
    "new_lst = [re.sub(\"[^A-z]\", \"\", s) for s in b]\n",
    "\n",
    "#print(\"-------\")\n",
    "#print(new_lst)\n",
    "print(NumOfSen)\n",
    "\n",
    "\n",
    "#print(a)\n",
    "#print('\\n')\n",
    "#print(re.sub(r'[^\\w]', '', a))\n",
    "#print(a)\n"
   ]
  },
  {
   "cell_type": "code",
   "execution_count": null,
   "metadata": {},
   "outputs": [],
   "source": []
  },
  {
   "cell_type": "code",
   "execution_count": null,
   "metadata": {},
   "outputs": [],
   "source": [
    "#print ('There are XXXX sentences in HW1.txt. XXXX of them include !?+-.length before trim after trim')\n",
    "# strip string =>delete ?+-"
   ]
  }
 ],
 "metadata": {
  "kernelspec": {
   "display_name": "Python 3.9.12 ('base')",
   "language": "python",
   "name": "python3"
  },
  "language_info": {
   "codemirror_mode": {
    "name": "ipython",
    "version": 3
   },
   "file_extension": ".py",
   "mimetype": "text/x-python",
   "name": "python",
   "nbconvert_exporter": "python",
   "pygments_lexer": "ipython3",
   "version": "3.9.12"
  },
  "orig_nbformat": 4,
  "vscode": {
   "interpreter": {
    "hash": "ad2bdc8ecc057115af97d19610ffacc2b4e99fae6737bb82f5d7fb13d2f2c186"
   }
  }
 },
 "nbformat": 4,
 "nbformat_minor": 2
}
