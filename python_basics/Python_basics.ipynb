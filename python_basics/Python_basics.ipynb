{
 "cells": [
  {
   "cell_type": "markdown",
   "id": "e1da4732",
   "metadata": {},
   "source": [
    "# Python_Basics"
   ]
  },
  {
   "cell_type": "markdown",
   "id": "a16dbdd0",
   "metadata": {},
   "source": [
    "基本資料型態\n",
    "*   布林 ( bool ) : True , False\n",
    "*   整數 ( int ) : 95 , 21230\n",
    "*   浮點數( float ) : 3.14 , 2.7e5\n",
    "*   複數( complex ) : 3j , 5+9j\n",
    "*   字串( str ) : 'C4Lab' , \"NTU\"\n",
    "*   串列 ( list ) : ['apple', 'banana', 'orange']\n",
    "*   tuple : (4, 3, 7)\n",
    "*   集合( set ) : {45, 123, 981} , set([3, 5, 7])\n",
    "*   字典( dict ) : {'game' : 'LOL', 'name' : 'matt'}"
   ]
  },
  {
   "cell_type": "markdown",
   "id": "eac7f7c4",
   "metadata": {},
   "source": [
    "變數規則以及型態\n",
    "*\t規則:只能有大小寫字母、數字( 0~9 )、底線( _ )，有大小寫之分，開頭必須是字母或底線不能是數字，不能為Python的保留字(e.g True)\n",
    "*\t型態:可以利用type()來得知\n",
    "*\t用print來輸出,用','分隔輸出內容\n",
    "*   print(*object,sep='',end='')\n",
    "*   %d 用作整數值的佔位符\n",
    "*   %s 用作字串值的佔位符"
   ]
  },
  {
   "cell_type": "code",
   "execution_count": null,
   "id": "7200f566",
   "metadata": {},
   "outputs": [
    {
     "name": "stdout",
     "output_type": "stream",
     "text": [
      "_a 1 <class 'int'>\n",
      "b C4Lab <class 'str'>\n",
      "c True <class 'bool'>\n",
      "d [1, 2, 3] <class 'list'>\n",
      "e (1, 2, 3) <class 'tuple'>\n",
      "f {1: 1, 'C4Lab': 2} <class 'dict'>\n",
      "12-59-c4Lab!\n",
      "\n",
      "  |six eight|\n",
      "24 15\n"
     ]
    }
   ],
   "source": [
    "_a = 1\n",
    "print('_a',_a,type(_a))\n",
    "\n",
    "B = 'C4Lab'\n",
    "print('b',B,type(B))\n",
    "\n",
    "c0 = True\n",
    "print('c',c0,type(c0))\n",
    "\n",
    "d_ = [1,2,3]\n",
    "print('d',d_,type(d_))\n",
    "\n",
    "e = (1,2,3)\n",
    "print('e',e,type(e))\n",
    "\n",
    "f = {_a:1,B:2}\n",
    "print('f',f,type(f))\n",
    "\n",
    "print('12','59','c4Lab',sep='-',end='!')\n",
    "print('\\n')\n",
    "print('%6s' % '|six','%-6s' % 'eight|')\n",
    "print('%d' % 24,'%d' % 15.57)"
   ]
  },
  {
   "cell_type": "markdown",
   "id": "398c9aff",
   "metadata": {},
   "source": [
    "數字運算\n",
    "*\t整數除法\n",
    "3 // 2 = 1 , 17 // 5 = 3\n",
    "*\t取餘數\n",
    "9 % 2 = 1 , 9 % 5 = 4\n",
    "*\t次方\n",
    "3 ** 2 = 9 , 5 ** 3 = 125\n"
   ]
  },
  {
   "cell_type": "code",
   "execution_count": 3,
   "id": "0f161acb",
   "metadata": {},
   "outputs": [
    {
     "name": "stdout",
     "output_type": "stream",
     "text": [
      "a + b = 9\n",
      "a - b = 5\n",
      "a * b = 14\n",
      "a / b = 3.5\n",
      "取商數: a // b = 3\n",
      "取餘數: a % b = 1\n",
      "a的b次方: a ** b = 49\n"
     ]
    }
   ],
   "source": [
    "a = 7\n",
    "b = 2\n",
    "print('a + b =',a + b)\n",
    "print('a - b =',a - b)\n",
    "print('a * b =',a * b)\n",
    "print('a / b =',a / b)\n",
    "print('取商數: a // b =',a // b)\n",
    "print('取餘數: a % b =',a % b)\n",
    "print('a的b次方: a ** b =',a**b)"
   ]
  },
  {
   "cell_type": "markdown",
   "id": "04dd06ee",
   "metadata": {},
   "source": [
    "String\n",
    "*\t用引號建立或是str()建立: 'hello', \"2\", str(2)\n",
    "*\t可以用+來合併: 'hello' + 'python' >>'hellopython'\n",
    "*\t用[ ]取得字元，[start: end(不包含): step]\n",
    "*   若start為負數則由後向前數(-1,-2...)並且end和step也須用負數"
   ]
  },
  {
   "cell_type": "code",
   "execution_count": 9,
   "id": "74b2a80e",
   "metadata": {},
   "outputs": [
    {
     "name": "stdout",
     "output_type": "stream",
     "text": [
      "abcdefghijklmn\n",
      "a\n",
      "n\n",
      "ghijklm\n",
      "bdfhjln\n",
      "lmn\n",
      "nmlkjihgfedcba\n",
      "jhf\n"
     ]
    }
   ],
   "source": [
    "letters1 = 'abcdefg'\n",
    "letters2 = 'hijklmn'\n",
    "letters = letters1 + letters2\n",
    "print(letters)  #'abcdefghijklmn'\n",
    "print(letters[0])   #'a'\n",
    "print(letters[-1])   #'n'\n",
    "print(letters[6:13])    #'ghijklm'\t\t\n",
    "print(letters[1::2])    #'bdfhjln'\n",
    "print(letters[-3:])    #'lmn'\n",
    "print(letters[-1::-1])  #'nmlkjihgfedcba'\n",
    "print(letters[-5:-11:-2])   #'jhf'"
   ]
  },
  {
   "cell_type": "markdown",
   "id": "90da6d9a",
   "metadata": {},
   "source": [
    "*\t用 str.split(separator, maxsplit) 來拆分\n",
    "*\t用 str.replace(oldvalue, newvalue, maxreplace) 來替換\n",
    "*\t用 str.strip([chars]) 來移除字首字尾"
   ]
  },
  {
   "cell_type": "code",
   "execution_count": 12,
   "id": "84337708",
   "metadata": {},
   "outputs": [
    {
     "name": "stdout",
     "output_type": "stream",
     "text": [
      "['C4Lab', 'is', 'very-very-good.']\n",
      "['C4Lab/is/very', 'very-good.']\n"
     ]
    }
   ],
   "source": [
    "a = \"C4Lab/is/very-very-good.\"\n",
    "print(a.split('/'))\t#['C4Lab', 'is', 'very-very-good.']\n",
    "print(a.split('-', 1)) #['C4Lab/is/very', 'very-good.']"
   ]
  },
  {
   "cell_type": "code",
   "execution_count": 10,
   "id": "62e8401c",
   "metadata": {},
   "outputs": [
    {
     "name": "stdout",
     "output_type": "stream",
     "text": [
      "I NTU't NTUcel NTUs.\n",
      "I NTU't NTUcel cans.\n"
     ]
    }
   ],
   "source": [
    "a = \"I can't cancel cans.\"\n",
    "print(a.replace('can', 'NTU'))\t # I NTU't NTUcel NTUs.\n",
    "print(a.replace('can', 'NTU', 2))\t # I NTU't NTUcel cans."
   ]
  },
  {
   "cell_type": "code",
   "execution_count": null,
   "id": "1e046097",
   "metadata": {},
   "outputs": [
    {
     "data": {
      "text/plain": [
       "'only.?!*letters'"
      ]
     },
     "execution_count": 23,
     "metadata": {},
     "output_type": "execute_result"
    }
   ],
   "source": [
    "a = \"!*.!!only.?!*letters..!?*?*!\"\n",
    "a.strip('.?!*')\t#'only.?!*letters'\n",
    "print(a)\n",
    "# how to remove all symbol?"
   ]
  },
  {
   "cell_type": "markdown",
   "id": "657dcb0e",
   "metadata": {},
   "source": [
    "*\t判斷開頭str.startswith()與結尾str.endswith()"
   ]
  },
  {
   "cell_type": "code",
   "execution_count": 1,
   "id": "fa6edaa9",
   "metadata": {},
   "outputs": [
    {
     "name": "stdout",
     "output_type": "stream",
     "text": [
      "True\n",
      "False\n",
      "True\n",
      "False\n"
     ]
    }
   ],
   "source": [
    "a = 'chrATCG'\n",
    "print(a.startswith('c'))\t\t #True\n",
    "print(a.startswith('C'))        #False\n",
    "print(a.endswith('G'))\t\t  #True\n",
    "print(a.endswith('5'))      #False"
   ]
  },
  {
   "cell_type": "markdown",
   "id": "0ce2519c",
   "metadata": {},
   "source": [
    "*\t搜尋字串str.find(chars, start, end)\n",
    "*   若字串不存在則回傳 -1\n",
    "*   搜尋的字串為一個字元以上且有找到的話是回傳開始的索引值"
   ]
  },
  {
   "cell_type": "code",
   "execution_count": 9,
   "id": "85964502",
   "metadata": {},
   "outputs": [
    {
     "name": "stdout",
     "output_type": "stream",
     "text": [
      "0\n",
      "5\n",
      "-1\n",
      "7\n",
      "-1\n"
     ]
    }
   ],
   "source": [
    "a = '/atcg/ATCG'\n",
    "print(a.find('/'))\t\t#0\n",
    "print(a.find('/',3,6))\t#5\n",
    "print(a.find('/',7))\t#-1\n",
    "print(a.find('TC'))     #7\n",
    "print(a.find('X'))\t\t#-1\t"
   ]
  },
  {
   "cell_type": "markdown",
   "id": "e6fb81e2",
   "metadata": {},
   "source": [
    "*\t將所有字元改成大寫upper()或小寫lower()"
   ]
  },
  {
   "cell_type": "code",
   "execution_count": 2,
   "id": "e95471ab",
   "metadata": {},
   "outputs": [
    {
     "name": "stdout",
     "output_type": "stream",
     "text": [
      "ATCGATCG\n",
      "atcgatcg\n"
     ]
    }
   ],
   "source": [
    "a = 'atcgATCG'\n",
    "print(a.upper())    #ATCGATCG\t\t\n",
    "print(a.lower())    #atcgatcg"
   ]
  },
  {
   "cell_type": "markdown",
   "id": "05e69d99",
   "metadata": {},
   "source": [
    "*\t用len() 得到元素數量\n",
    "*\t用in檢測值是否存在"
   ]
  },
  {
   "cell_type": "code",
   "execution_count": 5,
   "id": "a156b23e",
   "metadata": {},
   "outputs": [
    {
     "name": "stdout",
     "output_type": "stream",
     "text": [
      "8\n",
      "True\n",
      "False\n"
     ]
    }
   ],
   "source": [
    "a = 'atcgATCG'\n",
    "print(len(a))\n",
    "print('a' in a)\n",
    "print('b' in a)"
   ]
  },
  {
   "cell_type": "markdown",
   "id": "f37291dc",
   "metadata": {},
   "source": [
    "list\n",
    "*\tlist由零或多個元素組成，以”,”逗號做分隔，並放在[ ]裡"
   ]
  },
  {
   "cell_type": "code",
   "execution_count": 7,
   "id": "e367a8de",
   "metadata": {},
   "outputs": [],
   "source": [
    "a = []\n",
    "a = ['a', 'b', 'c', 'd', 'e', 'f', 'g']"
   ]
  },
  {
   "cell_type": "markdown",
   "id": "748121fa",
   "metadata": {},
   "source": [
    "*\t用len() 得到元素數量\n",
    "*\t用del 刪除元素\n",
    "*\t用in檢測值是否存在"
   ]
  },
  {
   "cell_type": "code",
   "execution_count": 8,
   "id": "4c230c61",
   "metadata": {},
   "outputs": [
    {
     "name": "stdout",
     "output_type": "stream",
     "text": [
      "len 7\n",
      "True\n",
      "True\n",
      "a ['a', 'b', 'c', 'd', 'e', 'f', 'g']\n",
      "a ['a', 'e', 'f', 'g']\n",
      "True\n",
      "False\n"
     ]
    }
   ],
   "source": [
    "print('len',len(a))\n",
    "print('e' in a)\n",
    "print('b' in a)\n",
    "print('a',a)\n",
    "del a[1:4]\n",
    "print('a',a)\n",
    "print('e' in a)\n",
    "print('b' in a)"
   ]
  },
  {
   "cell_type": "markdown",
   "id": "91697d4b",
   "metadata": {},
   "source": [
    "*\t用append(obj)來把項目加入尾端\n",
    "*\t用insert(index, obj)在特定位置加入項目\n",
    "*\t用sort()來排列且必須為同類型的元素，reverse可以反過來排序"
   ]
  },
  {
   "cell_type": "code",
   "execution_count": 13,
   "id": "803d4bcb",
   "metadata": {},
   "outputs": [
    {
     "name": "stdout",
     "output_type": "stream",
     "text": [
      "['a', 'b', 'c', 'd', 'h', 'i', 'a']\n",
      "['a', 'g', 'b', 'c', 'd', 'h', 'i', 'a']\n",
      "['a', 'a', 'b', 'c', 'd', 'g', 'h', 'i']\n",
      "['i', 'h', 'g', 'd', 'c', 'b', 'a', 'a']\n"
     ]
    }
   ],
   "source": [
    "a = ['a', 'b', 'c', 'd', 'h', 'i']\n",
    "a.append('a')\t\t #a = [‘a’, ‘b’, ‘c’, ‘d’, ‘e’, ‘f’, ‘g’, ‘a’]\n",
    "print(a)\n",
    "a.insert(1, 'g')\t\t#a = [‘a’, ‘g’, ‘b’, ‘c’, ‘d’, ‘e’, ‘f’, ‘g’, ‘a’]\n",
    "print(a)\n",
    "a.sort()\t\t\t  #a = [‘a’, ‘b’, ‘c’, ‘d’, ‘e’, ‘f’, ‘g’]\n",
    "print(a)\n",
    "a.sort(reverse=True)\n",
    "print(a)"
   ]
  },
  {
   "cell_type": "markdown",
   "id": "9195a1dd",
   "metadata": {},
   "source": [
    "Dictionary\n",
    "*\tlist是使用數字取得元素值的方式，如果想要用其他key值來取值就可以使用Dict，用{ }來建立\n",
    "*\t用 [ key ] 來加入或改變一個項目"
   ]
  },
  {
   "cell_type": "code",
   "execution_count": 18,
   "id": "500658c7",
   "metadata": {},
   "outputs": [
    {
     "name": "stdout",
     "output_type": "stream",
     "text": [
      "food[A] rice\n",
      "food {'A': 'rice', 'B': 'noodle'}\n",
      "food {'A': 'rice', 'B': 'noodle', 'C': 123}\n",
      "food {'A': 'rice', 'B': (True, (1+3j)), 'C': 123}\n"
     ]
    }
   ],
   "source": [
    "food = {'A': 'rice', 'B': 'noodle'}\n",
    "print('food[A]',food['A'])\n",
    "print('food',food)\n",
    "\n",
    "food['C'] = 123\t\n",
    "print('food',food)\n",
    "\n",
    "food['B'] = True, 1+3j\n",
    "print('food',food)"
   ]
  },
  {
   "cell_type": "markdown",
   "id": "7dd47233",
   "metadata": {},
   "source": [
    "*\t用 keys() 取得所有鍵\n",
    "*\t用 values() 取得所有值\n",
    "*\t用 items() 取得每一對鍵/值"
   ]
  },
  {
   "cell_type": "code",
   "execution_count": 19,
   "id": "37fc7c6a",
   "metadata": {},
   "outputs": [
    {
     "name": "stdout",
     "output_type": "stream",
     "text": [
      "dict_keys(['A', 'B', 'C'])\n",
      "dict_values(['rice', (True, (1+3j)), 123])\n",
      "dict_items([('A', 'rice'), ('B', (True, (1+3j))), ('C', 123)])\n"
     ]
    }
   ],
   "source": [
    "print(food.keys())\n",
    "print(food.values())\n",
    "print(food.items())"
   ]
  },
  {
   "cell_type": "markdown",
   "id": "b811b879",
   "metadata": {},
   "source": [
    "tuple\n",
    "*   tuple與list相同處為可疊代(可用迴圈讀取)相異處為(不可修改)\n",
    "*   當tuple只有一個資料需要加入逗號"
   ]
  },
  {
   "cell_type": "code",
   "execution_count": 25,
   "id": "7c750171",
   "metadata": {},
   "outputs": [
    {
     "name": "stdout",
     "output_type": "stream",
     "text": [
      "<class 'int'> <class 'tuple'> <class 'tuple'>\n",
      "72\n",
      "120\n",
      "(10, 72, 120)\n"
     ]
    }
   ],
   "source": [
    "number = 0, 10, 55, 72, 88, 120, 66\n",
    "one = (8)\n",
    "only_one = (8,)\n",
    "print(type(one),type(only_one),type(number))\n",
    "print(number[3])\n",
    "print(number[-2])\n",
    "print(number[1:6:2])"
   ]
  },
  {
   "cell_type": "markdown",
   "id": "7e1535fc",
   "metadata": {},
   "source": [
    "set\n",
    "*  set是無序且集合裡是不會包含重複的元素\n",
    "*  add(value) 來加入新元素, 使用 remove(value) 來移除元素"
   ]
  },
  {
   "cell_type": "code",
   "execution_count": 26,
   "id": "49e5ed73",
   "metadata": {},
   "outputs": [
    {
     "name": "stdout",
     "output_type": "stream",
     "text": [
      "set()\n",
      "{1, 2, 3, 4, 5}\n",
      "{1, 2, 3}\n",
      "{1, 3, 4, 5}\n",
      "{1, 2, 3, 4}\n"
     ]
    }
   ],
   "source": [
    "set1 = set()  #空的set利用set()來建立\n",
    "set2 = {2, 1, 4, 5, 3}  #也可利用{元素來創立}\n",
    "set3 = {1, 1, 2, 2, 3}  #set裡元素不重複\n",
    "\n",
    "print(set1)\n",
    "print(set2)\n",
    "print(set3)\n",
    "set3.add(4)\n",
    "set2.remove(2)\n",
    "print(set2)\n",
    "print(set3)"
   ]
  },
  {
   "cell_type": "markdown",
   "id": "042f504d",
   "metadata": {},
   "source": [
    "if/while/for 用法"
   ]
  },
  {
   "cell_type": "markdown",
   "id": "a4ed87a5",
   "metadata": {},
   "source": [
    "if判斷式\n",
    "    \n",
    "    if 關係運算式:\n",
    "      敘述\n",
    "    elif 關係運算式:\n",
    "      敘述\n",
    "    else:\n",
    "      敘述\n",
    "      "
   ]
  },
  {
   "cell_type": "code",
   "execution_count": 28,
   "id": "2c4dd74f",
   "metadata": {},
   "outputs": [
    {
     "name": "stdout",
     "output_type": "stream",
     "text": [
      "aa is  2\n"
     ]
    }
   ],
   "source": [
    "a = 2\n",
    "if(a == 1):\n",
    "  print('a is ',a)\n",
    "elif(a == 2):\n",
    "  print('aa is ',a)\n",
    "elif(a == 3):\n",
    "  print('aaa is ',a)\n",
    "else:\n",
    "  print('aaaa is ',a)"
   ]
  },
  {
   "cell_type": "markdown",
   "id": "0d3665e9",
   "metadata": {},
   "source": [
    "（&，|）和（and，or）\n",
    "* a & b, a | b, a and b, a or b\n",
    "* 如果 a 和 b 都是邏輯值, 則 and 和 & ; or 和 | 沒有差異\n",
    "* 如果 a 和 b 是數值變數, 則 & 和 | 為(二進)位運算\n",
    "*   input> & |\n",
    "*    0 0 >> 0 0\n",
    "*    1 0 >> 0 1\n",
    "*    0 1 >> 0 1\n",
    "*    1 1 >> 1 1\n"
   ]
  },
  {
   "cell_type": "code",
   "execution_count": 35,
   "id": "72ed9871",
   "metadata": {},
   "outputs": [
    {
     "name": "stdout",
     "output_type": "stream",
     "text": [
      "8\n",
      "11\n",
      "False\n",
      "True\n"
     ]
    }
   ],
   "source": [
    "a = 10 #1010\n",
    "b = 9 #1001\n",
    "print(a & b)  #8 = 1000\n",
    "print(a | b)  #11 = 1011\n",
    "\n",
    "c = True\n",
    "d = False\n",
    "print(c & d)  #False\n",
    "print(c | d)  #True"
   ]
  },
  {
   "cell_type": "markdown",
   "id": "e7f915bf",
   "metadata": {},
   "source": [
    "* and 和 or 為邏輯運算, 判斷是否為0. 0為False, 非0為True. \n",
    "* and 運算有包含0, 則返回0; 如果無0, 則返回後值.\n",
    "* or 運算中有包含非0值時, 返回第一個非0值."
   ]
  },
  {
   "cell_type": "code",
   "execution_count": 39,
   "id": "d98912c6",
   "metadata": {},
   "outputs": [
    {
     "name": "stdout",
     "output_type": "stream",
     "text": [
      "9\n",
      "10\n",
      "0\n",
      "10\n",
      "9\n",
      "False\n",
      "True\n"
     ]
    }
   ],
   "source": [
    "a = 10 #1010\n",
    "b = 9 #1001\n",
    "zero = 0\n",
    "print(a and b)  #9 \n",
    "print(a or b)  #10\n",
    "print(zero and a) #0\n",
    "print(a or b or zero) #10\n",
    "print(b or a or zero) #9\n",
    "\n",
    "c = True\n",
    "d = False\n",
    "print(c and d)  #False\n",
    "print(c or d)  #True"
   ]
  },
  {
   "cell_type": "markdown",
   "id": "f61aaaf3",
   "metadata": {},
   "source": [
    "* 將上述應用於if "
   ]
  },
  {
   "cell_type": "code",
   "execution_count": 40,
   "id": "f97558a6",
   "metadata": {},
   "outputs": [
    {
     "name": "stdout",
     "output_type": "stream",
     "text": [
      "222\n"
     ]
    }
   ],
   "source": [
    "a = 6\n",
    "\n",
    "if(a>1 and a<5):\n",
    "  print('111')\n",
    "elif(a>=5 and a<=10):\n",
    "  print('222')\n",
    "else:\n",
    "  print('333')"
   ]
  },
  {
   "cell_type": "markdown",
   "id": "130c8681",
   "metadata": {},
   "source": [
    "while關係運算式:\n",
    "\n",
    "    while 條件:\n",
    "    \n",
    "      if 關係運算式:\n",
    "        continue\n",
    "      if 關係運算式:\n",
    "        break\n"
   ]
  },
  {
   "cell_type": "code",
   "execution_count": 42,
   "id": "bc0cf3af",
   "metadata": {},
   "outputs": [
    {
     "name": "stdout",
     "output_type": "stream",
     "text": [
      "0\n",
      "1\n",
      "2\n",
      "3\n",
      "4\n",
      "5\n"
     ]
    }
   ],
   "source": [
    "a = -1\n",
    "while a < 5:\n",
    "  a = a + 1\n",
    "  print(a)"
   ]
  },
  {
   "cell_type": "markdown",
   "id": "ea39bcdf",
   "metadata": {},
   "source": [
    "*   break: 當條件符合時會強制結束迴圈\n",
    "*   continue: 當條件符合時會跳過本次迴圈剩下的程式碼\n",
    "*   pass: 當條件符合時會忽略該條件並正常運行(那用途?)"
   ]
  },
  {
   "cell_type": "code",
   "execution_count": 45,
   "id": "e906ac80",
   "metadata": {},
   "outputs": [
    {
     "name": "stdout",
     "output_type": "stream",
     "text": [
      "it is 0  now\n",
      "number 0\n",
      "it is 1  now\n",
      "number 1\n",
      "it is 2  now\n",
      "number 2\n",
      "it is 3  now\n",
      "number 3\n",
      "it is 4 1 now\n",
      "it is 4 2 now\n",
      "number 4\n",
      "it is 5 1 now\n",
      "it is 6  now\n",
      "number 6\n",
      "it is 7  now\n",
      "number 7\n",
      "it is 8  now\n",
      "number 8\n",
      "it is 9  now\n",
      "number 9\n",
      "it is 10 now\n",
      "It is done\n"
     ]
    }
   ],
   "source": [
    "a = -1\n",
    "while True:\n",
    "  a = a + 1\n",
    "  \n",
    "  if(a == 10):\n",
    "    print('it is', a,'now')\n",
    "    break\n",
    "  elif(a == 5):\n",
    "    print('it is', a,'1 now')\n",
    "    continue\n",
    "    print('it is', a,'2 now')\n",
    "  elif(a == 4):\n",
    "    print('it is', a,'1 now')\n",
    "    pass\n",
    "    print('it is', a,'2 now')\n",
    "  else:\n",
    "    print('it is', a,' now')\n",
    "  print('number', a)\n",
    "print('It is done')"
   ]
  },
  {
   "cell_type": "markdown",
   "id": "679d0178",
   "metadata": {},
   "source": [
    "range函數>>range(start, end, step)\n",
    "* start: 計數從start 開始。默認是從0 開始。例如range（5）等於range（0， 5)\n",
    "* stop:計數到stop結束，但不包括stop。例如：range（0， 5）是[0, 1, 2, 3, 4]沒有5\n",
    "* step：步長，默認為1。例如：range（0， 5） 等於range(0, 5, 1)"
   ]
  },
  {
   "cell_type": "code",
   "execution_count": 47,
   "id": "2ec7552b",
   "metadata": {},
   "outputs": [
    {
     "name": "stdout",
     "output_type": "stream",
     "text": [
      "<class 'range'>\n",
      "range(0, 10)\n",
      "<class 'range'>\n",
      "range(2, 10, 3)\n"
     ]
    }
   ],
   "source": [
    "a = range(10)\n",
    "print(type(a))\n",
    "print(a)"
   ]
  },
  {
   "cell_type": "markdown",
   "id": "7db50d47",
   "metadata": {},
   "source": [
    "for關係運算式:\n",
    "\n",
    "    for i in sequence:\n",
    "      放要執行的東西"
   ]
  },
  {
   "cell_type": "code",
   "execution_count": 49,
   "id": "34a19b1d",
   "metadata": {},
   "outputs": [
    {
     "name": "stdout",
     "output_type": "stream",
     "text": [
      "0\n",
      "1\n",
      "2\n",
      "3\n",
      "4\n",
      "-------\n",
      "0\n",
      "3\n",
      "6\n",
      "9\n"
     ]
    }
   ],
   "source": [
    "for i in range(5):\n",
    "  print(i)\n",
    "\n",
    "print('-------')\n",
    "\n",
    "for i in range(0,10,3):\n",
    "  print(i)"
   ]
  },
  {
   "cell_type": "code",
   "execution_count": 50,
   "id": "d01a23cc",
   "metadata": {},
   "outputs": [
    {
     "name": "stdout",
     "output_type": "stream",
     "text": [
      "a\n",
      "b\n",
      "c\n",
      "d\n",
      "e\n",
      "f\n",
      "g\n",
      "0 a\n",
      "1 b\n",
      "2 c\n",
      "3 d\n",
      "4 e\n",
      "5 f\n",
      "6 g\n"
     ]
    }
   ],
   "source": [
    "a = ['a', 'b', 'c', 'd', 'e', 'f', 'g']\n",
    "\n",
    "for i in a:\n",
    "  print(i)\n",
    "\n",
    "for i in range(len(a)):\n",
    "  print(i,a[i])"
   ]
  },
  {
   "cell_type": "code",
   "execution_count": 54,
   "id": "45f441b2",
   "metadata": {},
   "outputs": [
    {
     "name": "stdout",
     "output_type": "stream",
     "text": [
      "A\n",
      "B\n",
      "C\n",
      "rice\n",
      "123\n",
      "['pizza', '155']\n",
      "('A', 'rice')\n",
      "('B', 123)\n",
      "('C', ['pizza', '155'])\n",
      "A\n",
      "B\n",
      "C\n"
     ]
    }
   ],
   "source": [
    "food = {'A': 'rice', 'B': 123, 'C': ['pizza','155']}\n",
    "\n",
    "for key in food.keys():\n",
    "  print(key)\n",
    "\n",
    "for value in food.values():\n",
    "  print(value)\n",
    "\n",
    "for item in food.items():\n",
    "  print(item)\n",
    "\n",
    "for i in food:\n",
    "    print(i)"
   ]
  },
  {
   "cell_type": "markdown",
   "id": "ee5ff570",
   "metadata": {},
   "source": [
    "practice 1\n",
    "給定一個序列請分別把ATCG累加起來並輸出\n",
    "\n",
    "輸出格式(a:數量,t:數量,c:數量,g:數量)"
   ]
  },
  {
   "cell_type": "code",
   "execution_count": null,
   "id": "7f9165ae",
   "metadata": {},
   "outputs": [],
   "source": [
    "seq = 'gcccagtctgtgacccagcttgacagccaagtccctgtctttgaagaagcccctgtggagctgaggtgcaactactcatcgtctgtttcagtgtatctcttctggtatgtgcaataccccaaccaaggactccagcttctcctgaagtatttatcaggatccaccctggttgaaagcatcaacggttttgaggctgaatttaacaagagtcaaacttccttccacttgaggaaaccctcagtccatataagcgacacggctgagtacttctgtgctgtgagtga'\n",
    "######## TODO ########"
   ]
  },
  {
   "cell_type": "markdown",
   "id": "47428849",
   "metadata": {},
   "source": [
    "a: 69 t: 77 c: 75 g: 63\n",
    "\n",
    "print('a:', seq.count('a'), 't:', seq.count('t'), 'c:', seq.count('c'), 'g:', seq.count('g'))"
   ]
  },
  {
   "cell_type": "markdown",
   "id": "50ceca3c",
   "metadata": {},
   "source": [
    "函式(Function)結構\n",
    "\n",
    "def關係運算式:\n",
    "\n",
    "    def 函式名稱(參數):\n",
    "      運行的東西\n",
    "      return"
   ]
  },
  {
   "cell_type": "code",
   "execution_count": 4,
   "id": "2b8b6602",
   "metadata": {},
   "outputs": [
    {
     "name": "stdout",
     "output_type": "stream",
     "text": [
      "19\n",
      "1.7142857142857142 84\n",
      "cat\n",
      "cut\n"
     ]
    }
   ],
   "source": [
    "def caculate(num1,num2):\n",
    "  devide = num1 / num2\n",
    "  mult = num1 * num2\n",
    "  return devide,mult\n",
    "def sum(_1,_2):\n",
    "  return _1 + _2\n",
    "def replace_word(word, old, new):\n",
    "    word = word.replace(old,new)  \n",
    "    return word\n",
    "\n",
    "a = 12 \n",
    "b = 7\n",
    "total = sum(a,b)\n",
    "print(total)\n",
    "\n",
    "de , mu = caculate(a,b)\n",
    "print(de,mu)\n",
    "\n",
    "voc = 'cat'\n",
    "old_char = 'a'\n",
    "new_char = 'u'\n",
    "new_voc = replace_word(voc, old_char, new_char)\n",
    "print(voc)\n",
    "print(new_voc)"
   ]
  },
  {
   "cell_type": "markdown",
   "id": "a08a4a67",
   "metadata": {},
   "source": [
    "Practice 2\n",
    "* Sequence Alignment Scoring\n",
    "* match 2分 mismatch -1分 gap -2分\n",
    "給定兩個序列請用function算出分數"
   ]
  },
  {
   "cell_type": "markdown",
   "id": "ab051d1d",
   "metadata": {},
   "source": [
    "* class類別，就是像一個模組，可以產出具有相似特性的實體(物件)\n",
    "* 在__init__方法裡面建立初始化物件的變數\n",
    "* 用物件名稱.變數名 = 變數值"
   ]
  },
  {
   "cell_type": "code",
   "execution_count": null,
   "id": "d7eb19b6",
   "metadata": {},
   "outputs": [],
   "source": [
    "def score_align(seq1, seq2):\n",
    "  ######## TODO ########\n",
    "  \n",
    "  return 0\n",
    "\n",
    "seq1 = '--AGTGCATG-ACATA'\n",
    "seq2 = 'TCAGTC--TCTACAGA'\n",
    "\n",
    "score_align(seq1,seq2)"
   ]
  },
  {
   "cell_type": "code",
   "execution_count": 10,
   "id": "f4616384",
   "metadata": {},
   "outputs": [
    {
     "name": "stdout",
     "output_type": "stream",
     "text": [
      "Taiwan\n",
      "Taipei\n",
      "Taiwan / Taipei\n",
      "TAIWAN / taipei\n"
     ]
    }
   ],
   "source": [
    "class location():\n",
    "  def __init__(self, country, city):\n",
    "    self.country = country\n",
    "    self.city = city\n",
    "  def place(self):\n",
    "    return self.country+' / '+self.city\n",
    "  def up_and_low(self):\n",
    "    big_country = self.country.upper()\n",
    "    small_city = self.city.lower()\n",
    "    return big_country+' / '+ small_city \n",
    "  def IDKQQ(self):\n",
    "    pass\n",
    "\n",
    "NTU = location('Taiwan','Taipei')\n",
    "print(NTU.country)\n",
    "print(NTU.city)\n",
    "print(NTU.place())\n",
    "print(NTU.up_and_low())"
   ]
  },
  {
   "cell_type": "markdown",
   "id": "a2e7bcf9",
   "metadata": {},
   "source": [
    "With open函式開啟檔案的各種方式\n",
    "\n",
    "    with open(路徑 , type) as 變數:\n",
    "      放要執行的東西\n",
    "\n",
    "* type\tinfo\n",
    "* 'r'\t以只讀方式開啟檔案。檔案的指標將會放在檔案的開頭。這是預設模式。\n",
    "* 'w'\t開啟一個檔案只用於寫入。如果該檔案已存在則將其覆蓋。如果該檔案不存在，建立新檔案。\n",
    "* 'a'\t開啟一個檔案用於追加。如果該檔案已存在，檔案指標將會放在檔案的結尾。也就是說，新的內容將會被寫入到已有內容之後。如果該檔案不存在，建立新檔案進行寫入。\n"
   ]
  },
  {
   "cell_type": "code",
   "execution_count": null,
   "id": "30710eea",
   "metadata": {},
   "outputs": [],
   "source": [
    "with open('/your_path/test.txt' , 'w') as f: #寫入一個檔案叫做test\n",
    "  for i in range(10):\n",
    "    f.write(str(i)+'\\n')                     #寫入0-9\n",
    "  \n",
    "with open('/your_path/test.txt' , 'r') as f: #讀取test檔案\n",
    "  for i in f:                          #利用迭代的方式得到每一行 \n",
    "    print(i)   "
   ]
  }
 ],
 "metadata": {
  "kernelspec": {
   "display_name": "Python 3.10.4 64-bit",
   "language": "python",
   "name": "python3"
  },
  "language_info": {
   "codemirror_mode": {
    "name": "ipython",
    "version": 3
   },
   "file_extension": ".py",
   "mimetype": "text/x-python",
   "name": "python",
   "nbconvert_exporter": "python",
   "pygments_lexer": "ipython3",
   "version": "3.10.4"
  },
  "vscode": {
   "interpreter": {
    "hash": "26de051ba29f2982a8de78e945f0abaf191376122a1563185a90213a26c5da77"
   }
  }
 },
 "nbformat": 4,
 "nbformat_minor": 5
}
