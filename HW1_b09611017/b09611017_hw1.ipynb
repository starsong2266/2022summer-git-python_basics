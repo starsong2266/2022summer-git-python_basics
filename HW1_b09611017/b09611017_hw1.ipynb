{
 "cells": [
  {
   "cell_type": "code",
   "execution_count": 7,
   "metadata": {},
   "outputs": [],
   "source": [
    "num_sentences=0\n",
    "num_40=num_50=num_60=num_70=num_80=num_80_up=0\n",
    "new_40=new_50=new_60=new_70=new_80=new_80_up=0\n",
    "wrong=0\n",
    "with open('HW1.txt' , 'r') as HW1: #讀取test檔案\n",
    "  for i in HW1:                          #利用迭代的方式得到每一行 \n",
    "    num_sentences=num_sentences+1\n",
    "    num_words=len(i)-1   #每行都要刪換行符號~\n",
    "    \n",
    "    a='?' in i\n",
    "    b='!' in i\n",
    "    c='+' in i\n",
    "    d='-' in i\n",
    "    \n",
    "    specialChars = \"!?+-\" \n",
    "    for n in specialChars:\n",
    "        i = i.replace(n, '')\n",
    "    \n",
    "    new_len=len(i)-1  #每行都要刪換行符號~\n",
    "\n",
    "    if(a or b or c or d ==True):\n",
    "       wrong=wrong+1\n",
    "  \n",
    "    if (num_words<=40):\n",
    "      num_40=num_40+1\n",
    "    elif(num_words<=50):\n",
    "      num_50=num_50+1\n",
    "    elif(num_words<=60):\n",
    "      num_60=num_60+1\n",
    "    elif(num_words<=70):\n",
    "      num_70=num_70+1\n",
    "    elif(num_words<=80):\n",
    "      num_80=num_80+1\n",
    "    else:\n",
    "      num_80_up=num_80_up+1\n",
    "\n",
    "    if (new_len<=40):\n",
    "      new_40=new_40+1\n",
    "    elif(new_len<=50):\n",
    "      new_50=new_50+1\n",
    "    elif(new_len<=60):\n",
    "      new_60=new_60+1\n",
    "    elif(new_len<=70):\n",
    "      new_70=new_70+1\n",
    "    elif(new_len<=80):\n",
    "      new_80=new_80+1\n",
    "    else:\n",
    "      new_80_up=new_80_up+1"
   ]
  },
  {
   "cell_type": "code",
   "execution_count": 8,
   "metadata": {},
   "outputs": [
    {
     "name": "stdout",
     "output_type": "stream",
     "text": [
      "There are 539 sentences in HW1.txt.  169  of them include !?+-.\n",
      "length before trim after trim\n",
      "  <=40          33         43\n",
      "  <=50         173        203\n",
      "  <=60         154        141\n",
      "  <=70         114        112\n",
      "  <=80          55         39\n",
      "   >80          10          1\n"
     ]
    }
   ],
   "source": [
    "print(\"There are\",num_sentences,\"sentences in HW1.txt. \",wrong,\" of them include !?+-.\")\n",
    "print(\"length before trim after trim\")\n",
    "#print('%10s' % '|six','%-15s' % 'eight|')\n",
    "print('%6s' % '<=40','%11s' % num_40,'%10s' % new_40)\n",
    "print('%6s' % '<=50','%11s' % num_50,'%10s' % new_50)\n",
    "print('%6s' % '<=60','%11s' % num_60,'%10s' % new_60)\n",
    "print('%6s' % '<=70','%11s' % num_70,'%10s' % new_70)\n",
    "print('%6s' % '<=80','%11s' % num_80,'%10s' % new_80)\n",
    "print('%6s' % '>80','%11s' % num_80_up,'%10s' % new_80_up)\n"
   ]
  }
 ],
 "metadata": {
  "kernelspec": {
   "display_name": "Python 3.9.12 ('base': conda)",
   "language": "python",
   "name": "python3"
  },
  "language_info": {
   "codemirror_mode": {
    "name": "ipython",
    "version": 3
   },
   "file_extension": ".py",
   "mimetype": "text/x-python",
   "name": "python",
   "nbconvert_exporter": "python",
   "pygments_lexer": "ipython3",
   "version": "3.9.12"
  },
  "orig_nbformat": 4,
  "vscode": {
   "interpreter": {
    "hash": "a294b74c647474a24c3d78eec50c77aee25261b432a30567b41f8a254ed93e9d"
   }
  }
 },
 "nbformat": 4,
 "nbformat_minor": 2
}
